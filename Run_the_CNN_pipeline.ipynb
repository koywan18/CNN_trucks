{
 "cells": [
  {
   "cell_type": "code",
   "execution_count": 1,
   "metadata": {},
   "outputs": [],
   "source": [
    "from CNN_architecture import*\n",
    "from CNN_pipeline import *"
   ]
  },
  {
   "cell_type": "code",
   "execution_count": 2,
   "metadata": {},
   "outputs": [],
   "source": [
    "train_dataloader, test_dataloader = Generate_dataloaders('C:\\\\Users\\\\laure\\\\OneDrive\\\\Documents\\\\en projet\\\\practica de investigacion\\\\all_imsis_cnn.csv', 'labels_for_cnn.csv')"
   ]
  },
  {
   "cell_type": "code",
   "execution_count": null,
   "metadata": {},
   "outputs": [],
   "source": [
    "conv_class = classifier()\n",
    "loss_fn = nn.CrossEntropyLoss()"
   ]
  },
  {
   "cell_type": "code",
   "execution_count": null,
   "metadata": {},
   "outputs": [
    {
     "name": "stdout",
     "output_type": "stream",
     "text": [
      "Train - Loss: 18.4294 Acc: 0.6189\n",
      "Train - Loss: 3.6960 Acc: 0.7073\n",
      "Train - Loss: 3.7758 Acc: 0.6860\n",
      "Train - Loss: 1.5145 Acc: 0.7073\n",
      "Train - Loss: 2.6876 Acc: 0.7165\n",
      "Train - Loss: 2.1785 Acc: 0.7195\n",
      "Train - Loss: 2.9906 Acc: 0.7256\n",
      "Train - Loss: 2.5377 Acc: 0.7043\n",
      "Train - Loss: 0.9501 Acc: 0.7378\n",
      "Train - Loss: 1.5483 Acc: 0.7805\n",
      "Train - Loss: 2.9285 Acc: 0.7287\n",
      "Train - Loss: 1.8633 Acc: 0.8018\n",
      "Train - Loss: 2.7237 Acc: 0.8384\n",
      "Train - Loss: 0.8206 Acc: 0.8872\n",
      "Train - Loss: 1.0570 Acc: 0.9024\n",
      "Train - Loss: 1.7357 Acc: 0.8537\n",
      "Train - Loss: 0.8482 Acc: 0.9177\n",
      "Train - Loss: 0.9176 Acc: 0.9024\n",
      "Train - Loss: 0.3154 Acc: 0.9604\n",
      "Train - Loss: 0.4692 Acc: 0.9421\n",
      "Train - Loss: 0.2683 Acc: 0.9360\n",
      "Train - Loss: 0.3252 Acc: 0.9390\n",
      "Train - Loss: 1.1733 Acc: 0.9482\n",
      "Train - Loss: 0.3068 Acc: 0.9634\n",
      "Train - Loss: 0.0375 Acc: 0.9878\n",
      "Train - Loss: 0.4936 Acc: 0.9360\n",
      "Train - Loss: 0.2199 Acc: 0.9634\n",
      "Train - Loss: 0.5330 Acc: 0.9665\n",
      "Train - Loss: 0.6291 Acc: 0.9543\n",
      "Train - Loss: 0.0972 Acc: 0.9756\n",
      "Train - Loss: 0.2521 Acc: 0.9726\n",
      "Train - Loss: 0.8089 Acc: 0.9421\n",
      "Train - Loss: 0.2083 Acc: 0.9787\n",
      "Train - Loss: 0.1039 Acc: 0.9878\n",
      "Train - Loss: 0.4847 Acc: 0.9756\n",
      "Train - Loss: 0.3176 Acc: 0.9665\n",
      "Train - Loss: 0.0934 Acc: 0.9909\n",
      "Train - Loss: 0.0560 Acc: 0.9909\n",
      "Train - Loss: 0.0138 Acc: 0.9909\n",
      "Train - Loss: 0.1811 Acc: 0.9909\n",
      "Train - Loss: 0.0048 Acc: 0.9970\n",
      "Train - Loss: 0.0421 Acc: 0.9939\n",
      "Train - Loss: 0.0685 Acc: 0.9909\n",
      "Train - Loss: 0.0000 Acc: 1.0000\n",
      "Train - Loss: 0.0288 Acc: 0.9939\n"
     ]
    }
   ],
   "source": [
    "trained_conv_class = run_training(conv_class, train_dataloader, 45, 1e-3, loss_fn)"
   ]
  },
  {
   "cell_type": "code",
   "execution_count": null,
   "metadata": {},
   "outputs": [
    {
     "name": "stdout",
     "output_type": "stream",
     "text": [
      "Test - Loss: 4.1260 Acc: 0.9135\n"
     ]
    },
    {
     "ename": "AttributeError",
     "evalue": "'list' object has no attribute 'to'",
     "output_type": "error",
     "traceback": [
      "\u001b[1;31m---------------------------------------------------------------------------\u001b[0m",
      "\u001b[1;31mAttributeError\u001b[0m                            Traceback (most recent call last)",
      "Cell \u001b[1;32mIn[7], line 1\u001b[0m\n\u001b[1;32m----> 1\u001b[0m running_loss, predicted_y, y_test, output_cumulated \u001b[39m=\u001b[39m run_testing(trained_conv_class, test_dataloader, loss_fn)\n",
      "File \u001b[1;32mc:\\Users\\laure\\OneDrive\\Documents\\en projet\\practica de investigacion\\CNN_trucks\\CNN_pipeline.py:74\u001b[0m, in \u001b[0;36mrun_testing\u001b[1;34m(model, test_dataloader, loss_fn)\u001b[0m\n\u001b[0;32m     71\u001b[0m \u001b[39mdef\u001b[39;00m \u001b[39mrun_testing\u001b[39m(model, test_dataloader, loss_fn):\n\u001b[0;32m     73\u001b[0m     running_loss, predicted_y, y_test_bs, output_cumulated \u001b[39m=\u001b[39m test(model,test_dataloader, loss_fn)\n\u001b[1;32m---> 74\u001b[0m     predicted_y_np, y_test_bs_np, output_cumulated \u001b[39m=\u001b[39m predicted_y\u001b[39m.\u001b[39;49mto(\u001b[39m'\u001b[39m\u001b[39mcpu\u001b[39m\u001b[39m'\u001b[39m)\u001b[39m.\u001b[39mnumpy(), y_test_bs\u001b[39m.\u001b[39mto(\u001b[39m'\u001b[39m\u001b[39mcpu\u001b[39m\u001b[39m'\u001b[39m)\u001b[39m.\u001b[39mnumpy(), output_cumulated\u001b[39m.\u001b[39mto(\u001b[39m'\u001b[39m\u001b[39mcpu\u001b[39m\u001b[39m'\u001b[39m)\u001b[39m.\u001b[39mnumpy()\n\u001b[0;32m     75\u001b[0m     \u001b[39mreturn\u001b[39;00m running_loss, predicted_y_np, y_test_bs_np, output_cumulated\n",
      "\u001b[1;31mAttributeError\u001b[0m: 'list' object has no attribute 'to'"
     ]
    }
   ],
   "source": [
    "running_loss, predicted_y, y_test, output_cumulated = run_testing(trained_conv_class, test_dataloader, loss_fn)"
   ]
  }
 ],
 "metadata": {
  "kernelspec": {
   "display_name": "felix",
   "language": "python",
   "name": "python3"
  },
  "language_info": {
   "codemirror_mode": {
    "name": "ipython",
    "version": 3
   },
   "file_extension": ".py",
   "mimetype": "text/x-python",
   "name": "python",
   "nbconvert_exporter": "python",
   "pygments_lexer": "ipython3",
   "version": "3.10.10"
  },
  "orig_nbformat": 4
 },
 "nbformat": 4,
 "nbformat_minor": 2
}
